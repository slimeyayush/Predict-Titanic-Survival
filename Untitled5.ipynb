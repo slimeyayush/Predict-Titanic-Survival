{
  "nbformat": 4,
  "nbformat_minor": 0,
  "metadata": {
    "colab": {
      "provenance": []
    },
    "kernelspec": {
      "name": "python3",
      "display_name": "Python 3"
    },
    "language_info": {
      "name": "python"
    }
  },
  "cells": [
    {
      "cell_type": "code",
      "execution_count": 3,
      "metadata": {
        "colab": {
          "base_uri": "https://localhost:8080/"
        },
        "id": "2PuLdjMkgnR5",
        "outputId": "f656e2f4-c716-4edc-e662-462b68d9ef52"
      },
      "outputs": [
        {
          "output_type": "stream",
          "name": "stdout",
          "text": [
            "0.7949438202247191\n",
            "[[ 1.21318952 -0.32695491  0.86116043  0.51125689]]\n",
            "[0 1 0]\n"
          ]
        },
        {
          "output_type": "stream",
          "name": "stderr",
          "text": [
            "/usr/local/lib/python3.10/dist-packages/sklearn/base.py:439: UserWarning: X does not have valid feature names, but StandardScaler was fitted with feature names\n",
            "  warnings.warn(\n"
          ]
        }
      ],
      "source": [
        "\n",
        "import pandas as pd\n",
        "import numpy as np\n",
        "import matplotlib.pyplot as plt\n",
        "from sklearn.linear_model import LogisticRegression\n",
        "from sklearn.model_selection import train_test_split\n",
        "from sklearn.preprocessing import StandardScaler\n",
        "\n",
        "# Load the passenger data\n",
        "passengers = pd.read_csv('passengers.csv')\n",
        "\n",
        "# Update sex column to numerical\n",
        "passengers['Sex'] = passengers['Sex'].map({'female' : 1, 'male': 0});\n",
        "\n",
        "# Fill the nan values in the age column\n",
        "passengers['Age'].fillna(inplace= True,value = passengers['Age'].mean());\n",
        "\n",
        "\n",
        "# Create a first class column\n",
        "passengers['FirstClass'] = passengers['Pclass'].apply(lambda x: 1 if x == 1 else 0)\n",
        "\n",
        "# Create a second class column\n",
        "passengers['SecondClass'] = passengers['Pclass'].apply(lambda x: 1 if x == 2 else 0)\n",
        "#print(passengers)\n",
        "\n",
        "# Select the desired features\n",
        "features = passengers[['Sex','Age','FirstClass','SecondClass']]\n",
        "survival = passengers['Survived']\n",
        "# Perform train, test, split\n",
        "train_features, test_features, train_labels, test_labels = train_test_split(features, survival, test_size=0.2, random_state=42)\n",
        "\n",
        "# Scale the feature data so it has mean = 0 and standard deviation = 1\n",
        "scaler = StandardScaler()\n",
        "train_features = scaler.fit_transform(train_features)\n",
        "test_features = scaler.transform(test_features)  # Use scaler.transform, not fit_transform\n",
        "\n",
        "# Create and train the model\n",
        "model = LogisticRegression()\n",
        "model.fit(train_features, train_labels)\n",
        "print(model.score(train_features,train_labels))\n",
        "print(model.coef_)\n",
        "\n",
        "# Score the model on the train data\n",
        "\n",
        "\n",
        "# Score the model on the test data\n",
        "\n",
        "\n",
        "# Analyze the coefficients\n",
        "\n",
        "\n",
        "# Sample passenger features\n",
        "Jack = np.array([0.0,20.0,0.0,0.0])\n",
        "Rose = np.array([1.0,17.0,1.0,0.0])\n",
        "You = np.array([0.0,24.0,0.0,1.0])\n",
        "\n",
        "# Combine passenger arrays\n",
        "\n",
        "\n",
        "# Scale the sample passenger features\n",
        "\n",
        "\n",
        "# Make survival predictions!\n",
        "sample_passengers = np.array([Jack,Rose,You])\n",
        "sample_passengers_scaled = scaler.transform(sample_passengers)\n",
        "print(model.predict(sample_passengers_scaled))"
      ]
    }
  ]
}